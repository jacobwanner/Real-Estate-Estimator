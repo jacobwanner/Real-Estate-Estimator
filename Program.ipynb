{
 "cells": [
  {
   "cell_type": "code",
   "execution_count": null,
   "id": "6dccfa2a-bf38-44f6-9670-121301176939",
   "metadata": {},
   "outputs": [
    {
     "name": "stdout",
     "output_type": "stream",
     "text": [
      "Please provide your Kaggle credentials to download this dataset. Learn more: http://bit.ly/kaggle-creds\n",
      "Your Kaggle username:"
     ]
    }
   ],
   "source": [
    "import pandas as pd\n",
    "import numpy as np\n",
    "import matplotlib.pyplot as plt\n",
    "import seaborn as sns\n",
    "import joblib\n",
    "import opendatasets as od\n",
    "import sklearn\n",
    "from sklearn.model_selection import train_test_split\n",
    "from sklearn.ensemble import RandomForestRegressor\n",
    "from sklearn.metrics import mean_absolute_error, r2_score\n",
    "\n",
    "#Import Data\n",
    "od.download(\"https://www.kaggle.com/datasets/dansbecker/melbourne-housing-snapshot\")\n",
    "file = ('melbourne-housing-snapshot/melb_data.csv')\n",
    "data = pd.read_csv(file)\n",
    "\n",
    "#Drops columns not used in evaluation\n",
    "data = data.drop(['Suburb', 'Address', 'Type', 'Method', 'SellerG', 'Date', 'BuildingArea', 'YearBuilt', 'CouncilArea', 'Lattitude', 'Longtitude', 'Regionname', 'Propertycount'], axis=1)\n",
    "\n",
    "#large price deviations are removed from the dataset\n",
    "lower_bound = data['Price'].quantile(0.05)  # 5th percentile\n",
    "upper_bound = data['Price'].quantile(0.8)  # 80th percentile\n",
    "data = data[(data['Price'] >= lower_bound) & (data['Price'] <= upper_bound)]\n",
    "\n",
    "#Prepare features and target\n",
    "features = data[['Rooms', 'Distance', 'Postcode', 'Bedroom2', 'Bathroom', 'Car', 'Landsize']]\n",
    "target = data['Price']\n",
    "\n",
    "# Calculate average price by postcode\n",
    "postcode_avg_price = data.groupby('Postcode')['Price'].mean().reset_index()\n",
    "postcode_avg_price.columns = ['Postcode', 'avg_price']\n",
    "\n",
    "# Save postcode averages to a CSV\n",
    "postcode_avg_price.to_csv('postcode_avg_price.csv', index=False)\n",
    "\n",
    "# If zipcode is empty, replace null with average\n",
    "features = features.merge(postcode_avg_price, on='Postcode', how='left')\n",
    "features['Postcode'] = features['Postcode'].fillna(features['avg_price'])\n",
    "\n",
    "# Splits the data into 80% train data and 20% test data\n",
    "X_train, X_test, y_train, y_test = train_test_split(features.drop(columns=['avg_price']), target, test_size=0.20, random_state=22)\n",
    "\n",
    "# Train the model\n",
    "rf_model = RandomForestRegressor(n_estimators=100, random_state=22)\n",
    "rf_model.fit(X_train, y_train)\n",
    "predictions = rf_model.predict(X_test)\n",
    "\n",
    "# Run the test data on the model to get results\n",
    "mae = mean_absolute_error(y_test, predictions)\n",
    "r2 = r2_score(y_test, predictions)\n",
    "print(f'R-squared: {r2:.2f}')\n",
    "print(f'Mean Absolute Error: {mae:.2f}')\n",
    "\n",
    "\n",
    "#Display charts\n",
    "sns.set_style(\"whitegrid\")\n",
    "\n",
    "#Display the amount of properties sold at each price level\n",
    "plt.hist(data['Price'], bins=30);\n",
    "plt.title('Distribution of Property Prices')\n",
    "plt.xlabel('Price')\n",
    "plt.ylabel('Frequency')\n",
    "plt.show()\n",
    "\n",
    "# Scatter plot of actual vs predicted prices\n",
    "plt.figure(figsize=(10, 6))\n",
    "plt.scatter(y_test, predictions, alpha=0.3)\n",
    "plt.xlabel('Actual Prices')\n",
    "plt.ylabel('Predicted Prices')\n",
    "plt.title('Actual vs Predicted Prices')\n",
    "plt.plot([y_test.min(), y_test.max()], [y_test.min(), y_test.max()], lw=2, linestyle='--', color='black')\n",
    "plt.show()\n",
    "\n",
    "# Distribution of prediction errors\n",
    "prediction_errors = y_test - predictions\n",
    "plt.figure(figsize=(12, 8))\n",
    "sns.histplot(prediction_errors, kde=True, bins=40)\n",
    "plt.xlabel('Prediction Error')\n",
    "plt.title('Distribution of Prediction Errors')\n",
    "plt.show()\n",
    "\n",
    "# Correlation heatmap of features\n",
    "plt.figure(figsize=(8, 8))\n",
    "sns.heatmap(data.corr(), annot=True, fmt=\".2f\", cmap='coolwarm', square=True, cbar_kws={\"shrink\": .8})\n",
    "plt.title('Correlation Heatmap of Features')\n",
    "plt.xticks(rotation=45)\n",
    "plt.yticks(rotation=45)\n",
    "plt.show()"
   ]
  },
  {
   "cell_type": "code",
   "execution_count": null,
   "id": "8793d5c5-647b-48a7-aaef-43c25e94c214",
   "metadata": {
    "scrolled": true
   },
   "outputs": [],
   "source": [
    "data.describe()"
   ]
  },
  {
   "cell_type": "code",
   "execution_count": null,
   "id": "04c11614-846f-4c51-8764-bd0e15553288",
   "metadata": {
    "scrolled": true
   },
   "outputs": [],
   "source": [
    "# Get user input\n",
    "rooms = float(input(\"Enter number of rooms: \"))\n",
    "distance = float(input(\"Enter distance from c: \"))\n",
    "postcode = int(input(\"Enter postcode: \"))\n",
    "bedroom2 = float(input(\"Enter number of bedrooms: \"))\n",
    "bathroom = float(input(\"Enter number of bathrooms: \"))\n",
    "car = float(input(\"Enter number of car spaces: \"))\n",
    "landsize = float(input(\"Enter land size (sqm): \"))\n",
    "\n",
    "# Create a DataFrame with the input\n",
    "user_input_df = pd.DataFrame([[rooms, distance, postcode, bedroom2, bathroom, car, landsize]],\n",
    "                             columns=['Rooms', 'Distance', 'Postcode', 'Bedroom2', 'Bathroom', 'Car', 'Landsize'])\n",
    "\n",
    "# Predict the price\n",
    "predicted_price = rf_model.predict(user_input_df)\n",
    "print(f\"Predicted Price: {predicted_price[0]}\")"
   ]
  },
  {
   "cell_type": "code",
   "execution_count": null,
   "id": "5c7cd2c7-7bf9-400f-bbb0-8409ccb756f6",
   "metadata": {},
   "outputs": [],
   "source": []
  }
 ],
 "metadata": {
  "kernelspec": {
   "display_name": "Python 3 (ipykernel)",
   "language": "python",
   "name": "python3"
  },
  "language_info": {
   "codemirror_mode": {
    "name": "ipython",
    "version": 3
   },
   "file_extension": ".py",
   "mimetype": "text/x-python",
   "name": "python",
   "nbconvert_exporter": "python",
   "pygments_lexer": "ipython3",
   "version": "3.10.16"
  }
 },
 "nbformat": 4,
 "nbformat_minor": 5
}
